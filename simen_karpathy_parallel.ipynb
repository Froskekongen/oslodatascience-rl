{
 "cells": [
  {
   "cell_type": "code",
   "execution_count": 1,
   "metadata": {
    "collapsed": false
   },
   "outputs": [
    {
     "name": "stderr",
     "output_type": "stream",
     "text": [
      "Using Theano backend.\n"
     ]
    }
   ],
   "source": [
    "import gym\n",
    "import keras\n",
    "import numpy as np"
   ]
  },
  {
   "cell_type": "code",
   "execution_count": 2,
   "metadata": {
    "collapsed": true
   },
   "outputs": [],
   "source": [
    "# Hyperparameters\n",
    "H = 200 # number of hidden layer neurons\n",
    "batch_size = 10 # every how many episodes to do a param update?\n",
    "learning_rate = 1e-3\n",
    "gamma = 0.99 # discount factor for reward\n",
    "decay_rate = 0.99 # decay factor for RMSProp leaky sum of grad^2\n",
    "resume = False # resume from previous checkpoint?\n",
    "render = False\n",
    "D = 80 * 80 # input dimensionality: 80x80 grid\n",
    "running_reward = 21.0 # Default start at zero\n",
    "\n",
    "D = 80 * 80 # input dimensionality: 80x80 grid\n",
    "\n",
    "def prepro(I):\n",
    "  \"\"\" prepro 210x160x3 uint8 frame into 6400 (80x80) 1D float vector \"\"\"\n",
    "  I = I[35:195] # crop\n",
    "  I = I[::2,::2,0] # downsample by factor of 2\n",
    "  I[I == 144] = 0 # erase background (background type 1)\n",
    "  I[I == 109] = 0 # erase background (background type 2)\n",
    "  I[I != 0] = 1 # everything else (paddles, ball) just set to 1\n",
    "  return I.astype(np.float).ravel()\n",
    "\n",
    "def discount_rewards(r):\n",
    "  \"\"\" take 1D float array of rewards and compute discounted reward \"\"\"\n",
    "  discounted_r = np.zeros_like(r)\n",
    "  running_add = 0\n",
    "  for t in reversed(xrange(0, r.size)):\n",
    "    if r[t] != 0: running_add = 0 # reset the sum, since this was a game boundary (pong specific!)\n",
    "    running_add = running_add * gamma + r[t]\n",
    "    discounted_r[t] = running_add\n",
    "  return discounted_r\n"
   ]
  },
  {
   "cell_type": "markdown",
   "metadata": {},
   "source": [
    "## Model"
   ]
  },
  {
   "cell_type": "code",
   "execution_count": 3,
   "metadata": {
    "collapsed": true
   },
   "outputs": [],
   "source": [
    "def prepro(I):\n",
    "    \"\"\" prepro 210x160x3 uint8 frame into 6400 (80x80) 1D float vector \"\"\"\n",
    "    I = I[35:195] # crop\n",
    "    I = I[::2,::2,0] # downsample by factor of 2\n",
    "    I[I == 144] = 0 # erase background (background type 1)\n",
    "    I[I == 109] = 0 # erase background (background type 2)\n",
    "    I[I != 0] = 1 # everything else (paddles, ball) just set to 1\n",
    "    return I.astype(np.float32)\n",
    "\n",
    "def get_dense_model():\n",
    "    \"\"\"Make keras model\"\"\"\n",
    "\n",
    "    learning_rate=1e-4\n",
    "    inp = Input(shape=(80*80,))\n",
    "    h = Dense(200, activation='relu')(inp)\n",
    "    out = Dense(1, activation='sigmoid')(h)\n",
    "    model = Model(inp, out)\n",
    "    optim = RMSprop(learning_rate)\n",
    "    model.compile(optim, 'binary_crossentropy')\n",
    "    try:\n",
    "        model.load_weights('mod_weights_binary.h5')\n",
    "        print('weights loaded')\n",
    "    except:\n",
    "        pass\n",
    "    return model\n"
   ]
  },
  {
   "cell_type": "code",
   "execution_count": 4,
   "metadata": {
    "collapsed": false
   },
   "outputs": [
    {
     "name": "stderr",
     "output_type": "stream",
     "text": [
      "/usr/local/lib/python2.7/dist-packages/ipykernel/__main__.py:5: UserWarning: Update your `Dense` call to the Keras 2 API: `Dense(units=200, activation=\"relu\", input_dim=6400)`\n"
     ]
    }
   ],
   "source": [
    "from keras.models import Sequential\n",
    "from keras.layers import Dense, Activation\n",
    "\n",
    "kmodel = Sequential()\n",
    "kmodel.add(Dense(output_dim=200,input_dim=6400, activation=\"relu\"))\n",
    "kmodel.add(Dense(1, activation=\"sigmoid\"))\n",
    "\n",
    "kmodel.compile(loss='binary_crossentropy', \n",
    "               optimizer=keras.optimizers.RMSprop(lr=0.01, rho=0.9, epsilon=1e-08, decay=0.0))\n",
    "\n",
    "kmodel.save(\"model/model.h5\")\n",
    "\n",
    "from keras.models import load_model\n",
    "\n",
    "def get_dense_model():\n",
    "    return load_model('model/model.h5')"
   ]
  },
  {
   "cell_type": "markdown",
   "metadata": {},
   "source": [
    "## Episode running"
   ]
  },
  {
   "cell_type": "code",
   "execution_count": 5,
   "metadata": {
    "collapsed": false
   },
   "outputs": [],
   "source": [
    "game = \"Pong-v0\"\n",
    "def run_parallel_episodes(pp,n_episodes = 3):\n",
    "    X,ACTION,REWARD = [],[],[]\n",
    "    \n",
    "    outs=pp.map(run_episodes,n_episodes*[0])\n",
    "    for o in outs:\n",
    "        X.extend(o[0])\n",
    "        ACTION.extend(o[1])\n",
    "        REWARD.extend(o[2])\n",
    "        \n",
    "    X = np.vstack(X)\n",
    "    ACTION = np.vstack(ACTION)\n",
    "    REWARD = np.vstack(REWARD)\n",
    "    return X,ACTION,REWARD\n",
    "\n",
    "def run_episodes(thr = [1,2,3]):\n",
    "    n_episodes=3\n",
    "    D=80*80\n",
    "    model=get_dense_model()\n",
    "    env=gym.make(game)\n",
    "    observation = env.reset()\n",
    "    prev_x = None # used in computing the difference frame\n",
    "    X,ACTION,REWARD = [],[],[]\n",
    "    running_reward = None\n",
    "    reward_sum = 0\n",
    "    episode_number = 0\n",
    "    loc_len=0\n",
    "    while True:\n",
    "        # preprocess the observation, set input to network to be difference image\n",
    "        cur_x = prepro(observation)\n",
    "        x = cur_x - prev_x if prev_x is not None else np.zeros(D)\n",
    "        prev_x = cur_x\n",
    "\n",
    "        # forward the policy network and sample an action from the returned probability\n",
    "        aprob = model.predict(x.reshape((1, -1)))\n",
    "        action = 2 if np.random.uniform() < aprob else 3 # roll the dice!\n",
    "\n",
    "        # record various intermediates (needed later for backprop)\n",
    "        X.append(x.reshape((1, -1))) # observation\n",
    "        # y = 1 if action == 2 else 0 # a \"fake label\" giving the action chosen\n",
    "        ACTION.append(1 if action == 2 else 0) # a \"fake label\" giving the action chosen\n",
    "\n",
    "        # step the environment and get new measurements\n",
    "        observation, reward, done, info = env.step(action)\n",
    "        reward_sum += reward\n",
    "        REWARD.append(reward) # record reward (has to be done after we call step() to get reward for previous action)\n",
    "        loc_len+=1\n",
    "        if done: # an episode finished (one player has reached a score of 21)\n",
    "            episode_number += 1\n",
    "            #print(episode_number,reward_sum,loc_len)\n",
    "            reward_sum=0\n",
    "            loc_len=0\n",
    "            if episode_number>(n_episodes-1):\n",
    "                X = np.vstack(X)\n",
    "                ACTION = np.array(ACTION)\n",
    "                REWARD =  np.array(REWARD)\n",
    "                return X,ACTION,REWARD\n",
    "            observation = env.reset()"
   ]
  },
  {
   "cell_type": "code",
   "execution_count": 6,
   "metadata": {
    "collapsed": true
   },
   "outputs": [],
   "source": [
    "class threadsafe_iter:\n",
    "    \"\"\"Takes an iterator/generator and makes it thread-safe by\n",
    "    serializing call to the `next` method of given iterator/generator.\n",
    "    \"\"\"\n",
    "    def __init__(self, it):\n",
    "        self.it = it\n",
    "        self.lock = threading.Lock()\n",
    "\n",
    "    def __iter__(self):\n",
    "        return self\n",
    "\n",
    "    def next(self):\n",
    "        with self.lock:\n",
    "            return self.it.next()\n",
    "\n",
    "def threadsafe_generator(f):\n",
    "    \"\"\"A decorator that takes a generator function and makes it thread-safe.\n",
    "    \"\"\"\n",
    "    def g(*a, **kw):\n",
    "        return threadsafe_iter(f(*a, **kw))\n",
    "    return g\n"
   ]
  },
  {
   "cell_type": "code",
   "execution_count": 7,
   "metadata": {
    "collapsed": false
   },
   "outputs": [],
   "source": [
    "import threading\n",
    "@threadsafe_generator\n",
    "def game_generator():\n",
    "    while True:\n",
    "        obs = run_episodes()\n",
    "        yield obs"
   ]
  },
  {
   "cell_type": "code",
   "execution_count": 8,
   "metadata": {
    "collapsed": true
   },
   "outputs": [],
   "source": [
    "import datetime"
   ]
  },
  {
   "cell_type": "markdown",
   "metadata": {},
   "source": [
    "## Pong Single threading"
   ]
  },
  {
   "cell_type": "code",
   "execution_count": 9,
   "metadata": {
    "collapsed": false
   },
   "outputs": [
    {
     "name": "stdout",
     "output_type": "stream",
     "text": [
      "Epoch 1/1\n"
     ]
    },
    {
     "name": "stderr",
     "output_type": "stream",
     "text": [
      "[2017-03-27 15:52:13,631] Making new env: Pong-v0\n",
      "[2017-03-27 15:52:21,947] Making new env: Pong-v0\n",
      "[2017-03-27 15:52:30,662] Making new env: Pong-v0\n",
      "[2017-03-27 15:52:38,383] Making new env: Pong-v0\n",
      "[2017-03-27 15:52:45,887] Making new env: Pong-v0\n",
      "[2017-03-27 15:52:53,262] Making new env: Pong-v0\n",
      "[2017-03-27 15:53:01,459] Making new env: Pong-v0\n",
      "[2017-03-27 15:53:08,863] Making new env: Pong-v0\n",
      "[2017-03-27 15:53:16,695] Making new env: Pong-v0\n",
      "[2017-03-27 15:53:24,103] Making new env: Pong-v0\n",
      "[2017-03-27 15:53:30,960] Making new env: Pong-v0\n"
     ]
    },
    {
     "name": "stdout",
     "output_type": "stream",
     "text": [
      "77s - loss: -3.9567e+00\n",
      "0:01:25.611100\n"
     ]
    }
   ],
   "source": [
    "start = datetime.datetime.now()\n",
    "kmodel.fit_generator(generator = game_generator(),\n",
    "                    steps_per_epoch = 10,\n",
    "                    epochs=1,\n",
    "                    workers = 1,\n",
    "                    verbose=2,\n",
    "                    pickle_safe=False)\n",
    "\n",
    "print  datetime.datetime.now() - start\n",
    "#kmodel.save(\"model/model.h5\")\n"
   ]
  },
  {
   "cell_type": "markdown",
   "metadata": {},
   "source": [
    "## Pong Multi-threading"
   ]
  },
  {
   "cell_type": "code",
   "execution_count": 10,
   "metadata": {
    "collapsed": false
   },
   "outputs": [
    {
     "name": "stdout",
     "output_type": "stream",
     "text": [
      "Epoch 1/1\n"
     ]
    },
    {
     "name": "stderr",
     "output_type": "stream",
     "text": [
      "[2017-03-27 15:53:38,609] Making new env: Pong-v0\n",
      "[2017-03-27 15:53:38,610] Making new env: Pong-v0\n",
      "[2017-03-27 15:53:38,626] Making new env: Pong-v0\n",
      "[2017-03-27 15:53:38,635] Making new env: Pong-v0\n",
      "[2017-03-27 15:53:38,641] Making new env: Pong-v0\n",
      "[2017-03-27 15:53:53,202] Making new env: Pong-v0\n",
      "[2017-03-27 15:54:06,699] Making new env: Pong-v0\n",
      "[2017-03-27 15:54:10,190] Making new env: Pong-v0\n",
      "[2017-03-27 15:54:12,954] Making new env: Pong-v0\n",
      "[2017-03-27 15:54:14,292] Making new env: Pong-v0\n",
      "[2017-03-27 15:54:29,797] Making new env: Pong-v0\n",
      "[2017-03-27 15:54:32,137] Making new env: Pong-v0\n",
      "[2017-03-27 15:54:42,061] Making new env: Pong-v0\n",
      "[2017-03-27 15:54:46,807] Making new env: Pong-v0\n",
      "[2017-03-27 15:54:51,725] Making new env: Pong-v0\n"
     ]
    },
    {
     "name": "stdout",
     "output_type": "stream",
     "text": [
      "76s - loss: -7.0577e+00\n",
      "0:01:16.273109\n"
     ]
    }
   ],
   "source": [
    "start = datetime.datetime.now()\n",
    "kmodel.fit_generator(generator = game_generator(),\n",
    "                    steps_per_epoch = 10,\n",
    "                     epochs=1,\n",
    "                    workers = 5,\n",
    "                    verbose=2,\n",
    "                    pickle_safe=True)\n",
    "\n",
    "print  datetime.datetime.now() - start\n",
    "#kmodel.save(\"model/model.h5\")"
   ]
  }
 ],
 "metadata": {
  "kernelspec": {
   "display_name": "Python 2",
   "language": "python",
   "name": "python2"
  },
  "language_info": {
   "codemirror_mode": {
    "name": "ipython",
    "version": 2
   },
   "file_extension": ".py",
   "mimetype": "text/x-python",
   "name": "python",
   "nbconvert_exporter": "python",
   "pygments_lexer": "ipython2",
   "version": "2.7.6"
  }
 },
 "nbformat": 4,
 "nbformat_minor": 0
}
